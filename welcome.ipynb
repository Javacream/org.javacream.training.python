{
 "cells": [
  {
   "cell_type": "markdown",
   "metadata": {},
   "source": [
    "## Welcome to our Python Training!\n",
    "\n",
    "This is a so called \"Jupyter Notebook\". It contains markdown and code cells. Markdown will be rendered, code can be executed directly if a Python Kernel is available. \n",
    "\n",
    "Use the [Python extension](https://marketplace.visualstudio.com/items?itemName=ms-python.python) from Microsoft to write and execute Python scripts and Jupyter notebooks"
   ]
  }
 ],
 "metadata": {
  "language_info": {
   "name": "python"
  },
  "orig_nbformat": 4
 },
 "nbformat": 4,
 "nbformat_minor": 2
}
