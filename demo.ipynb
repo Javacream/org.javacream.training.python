{
  "metadata": {
    "language_info": {
      "codemirror_mode": {
        "name": "python",
        "version": 3
      },
      "file_extension": ".py",
      "mimetype": "text/x-python",
      "name": "python",
      "nbconvert_exporter": "python",
      "pygments_lexer": "ipython3",
      "version": "3.8"
    },
    "kernelspec": {
      "name": "python",
      "display_name": "Python (Pyodide)",
      "language": "python"
    }
  },
  "nbformat_minor": 4,
  "nbformat": 4,
  "cells": [
    {
      "cell_type": "markdown",
      "source": "# Python\n\n## Durchführung des Seminars\n\n* Referent: Rainer Sawitzki, eMail: rainer.sawitzki@gmail.com\n\n* [Digitales Flipchart](https://docs.google.com/presentation/d/1jeVtGZc4tuMNf6Pp3rE3721B-OYxEH6YXJ0_Y2LKnYA/edit?usp=sharing)\n\n## Zeitplan\n* 8 Tage mit jeweils 4 Unterrichtseinheiten pro Tag\n* 8:30 - 16:30\n* 8:30 - 9:00 \"Come Together\", Inhalt, Fragen und Wünsche für den folgenden Seminartag, Umgebung vorbereiten\n* 16:00 - 16:30 \"Tear Down\", Offene Punkte des Seminartages, Übungen fertigstellen, Nachfragen\n* Pausen\n  * Kaffeepausen 10:30 - 10:45 und 14:30 - 14:45\n  * Mittagspause 12:15 - 13:00",
      "metadata": {}
    },
    {
      "cell_type": "code",
      "source": "# variables and print\nname = \"Hugo\"\nprint(name)",
      "metadata": {
        "trusted": true
      },
      "execution_count": 7,
      "outputs": [
        {
          "name": "stdout",
          "text": "Hugo\n",
          "output_type": "stream"
        }
      ]
    },
    {
      "cell_type": "markdown",
      "source": "# Python List\n\nA list\n* is a collection type\n* has an index",
      "metadata": {}
    },
    {
      "cell_type": "code",
      "source": "list = [1,2]\nprint(list[0])",
      "metadata": {
        "trusted": true
      },
      "execution_count": 8,
      "outputs": [
        {
          "name": "stdout",
          "text": "1\n",
          "output_type": "stream"
        }
      ]
    },
    {
      "cell_type": "code",
      "source": "import numpy as np",
      "metadata": {
        "trusted": true
      },
      "execution_count": 9,
      "outputs": []
    }
  ]
}