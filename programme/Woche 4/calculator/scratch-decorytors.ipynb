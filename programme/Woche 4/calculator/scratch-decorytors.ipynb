{
 "cells": [
  {
   "cell_type": "markdown",
   "metadata": {},
   "source": [
    "## Was ist ein Decorator?"
   ]
  },
  {
   "cell_type": "markdown",
   "metadata": {},
   "source": [
    "### Ausgangssituation\n",
    "\n",
    "* eine ganz normale Python-Funktion"
   ]
  },
  {
   "cell_type": "code",
   "execution_count": 21,
   "metadata": {},
   "outputs": [
    {
     "data": {
      "text/plain": [
       "'OK'"
      ]
     },
     "execution_count": 21,
     "metadata": {},
     "output_type": "execute_result"
    }
   ],
   "source": [
    "def simple_function():\n",
    "    return 'OK'\n",
    "\n",
    "simple_function()"
   ]
  },
  {
   "cell_type": "markdown",
   "metadata": {},
   "source": [
    "* nun kommt eine zweite simple Python-Funktion dazu"
   ]
  },
  {
   "cell_type": "code",
   "execution_count": 22,
   "metadata": {},
   "outputs": [
    {
     "data": {
      "text/plain": [
       "42"
      ]
     },
     "execution_count": 22,
     "metadata": {},
     "output_type": "execute_result"
    }
   ],
   "source": [
    "def another_simple_function():\n",
    "    return 42\n",
    "\n",
    "another_simple_function()"
   ]
  },
  {
   "cell_type": "markdown",
   "metadata": {},
   "source": [
    "## Problemstellung\n",
    "* Beide Funktionen sollen zusätzlich eine Konsolenausgabe \"executing...\" bekommen\n",
    "\n",
    "* Prinzipielle Lösung wäre, diese Ausgabe in beiden Funktionen hunzuzufügen. Dies ist aber in komplexen Projekten nicht sinnvoll, da Redundanzen entstehen"
   ]
  },
  {
   "cell_type": "code",
   "execution_count": 23,
   "metadata": {},
   "outputs": [],
   "source": [
    "#def simple_function():\n",
    "#    print(\"executing...\")\n",
    "#    return 'OK'\n",
    "#def another_simple_function():\n",
    "#    print(\"executing...\")\n",
    "#    return 42"
   ]
  },
  {
   "cell_type": "code",
   "execution_count": 24,
   "metadata": {},
   "outputs": [],
   "source": [
    "## Lösung mit Decorators"
   ]
  },
  {
   "cell_type": "code",
   "execution_count": 25,
   "metadata": {},
   "outputs": [
    {
     "name": "stdout",
     "output_type": "stream",
     "text": [
      "executing...\n",
      "OK\n",
      "executing...\n"
     ]
    },
    {
     "data": {
      "text/plain": [
       "42"
      ]
     },
     "execution_count": 25,
     "metadata": {},
     "output_type": "execute_result"
    }
   ],
   "source": [
    "def executing_decorator(func):\n",
    "    def wrapper():\n",
    "        print(\"executing...\")\n",
    "        return func()\n",
    "    return wrapper\n",
    "\n",
    "def simple_function():\n",
    "    return 'OK'\n",
    "\n",
    "@executing_decorator\n",
    "def another_simple_function():\n",
    "    return 42\n",
    "\n",
    "simple_function = executing_decorator(simple_function)\n",
    "print(simple_function())\n",
    "another_simple_function()"
   ]
  },
  {
   "cell_type": "markdown",
   "metadata": {},
   "source": [
    "## Beispiele\n",
    "\n",
    "* Authentifizierung einer Webanwendung\n",
    "\n",
    "@authenticate\n",
    "def get_data():\n",
    "    pass\n",
    "\n",
    "* Transaktionssteuerung\n",
    "\n",
    "@transactional\n",
    "def do_something():\n",
    "    # schreibe datensatz 1\n",
    "    # schreibe ds 2"
   ]
  }
 ],
 "metadata": {
  "kernelspec": {
   "display_name": "Python 3",
   "language": "python",
   "name": "python3"
  },
  "language_info": {
   "codemirror_mode": {
    "name": "ipython",
    "version": 3
   },
   "file_extension": ".py",
   "mimetype": "text/x-python",
   "name": "python",
   "nbconvert_exporter": "python",
   "pygments_lexer": "ipython3",
   "version": "3.10.6"
  }
 },
 "nbformat": 4,
 "nbformat_minor": 2
}
